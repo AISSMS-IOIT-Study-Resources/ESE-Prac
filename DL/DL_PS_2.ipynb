{
 "cells": [
  {
   "cell_type": "markdown",
   "id": "82f4efc6-0ff6-4d3c-8418-a1b3df978a25",
   "metadata": {},
   "source": [
    "## Multiclass Classification using Deep Neural Networks"
   ]
  },
  {
   "cell_type": "markdown",
   "id": "cbe3a2fd-e1e6-46c5-95e6-bf9ab94416fd",
   "metadata": {},
   "source": [
    "### (OCR Letter Recognition Dataset)"
   ]
  },
  {
   "cell_type": "code",
   "execution_count": 3,
   "id": "741d97b9-062e-4340-a527-42d0a0bb4fd7",
   "metadata": {},
   "outputs": [],
   "source": [
    "import tensorflow as tf\n",
    "from tensorflow.keras import Sequential\n",
    "from tensorflow.keras.layers import Input, Dense, Dropout, Flatten\n",
    "from tensorflow.keras.datasets import mnist\n",
    "from tensorflow.keras.utils import to_categorical\n",
    "from sklearn.model_selection import train_test_split\n",
    "from sklearn.preprocessing import StandardScaler\n",
    "from sklearn.metrics import classification_report\n",
    "import pandas as pd"
   ]
  },
  {
   "cell_type": "code",
   "execution_count": 4,
   "id": "f6b87329-cfc8-46d3-866b-81f576e1023f",
   "metadata": {},
   "outputs": [],
   "source": [
    "import requests\n",
    "import zipfile\n",
    "import os\n",
    "\n",
    "url = 'https://archive.ics.uci.edu/static/public/59/letter+recognition.zip'\n",
    "filename = 'letter+recognition.zip'\n",
    "\n",
    "response = requests.get(url)\n",
    "with open(filename, 'wb') as f:  #this is just for downloading the dataset from the url\n",
    "    f.write(response.content)\n",
    "\n",
    "with zipfile.ZipFile(filename, 'r') as zip_ref: #this extracts the zip file downloaded\n",
    "    zip_ref.extractall('letter_recognition')  \n",
    "    # Specify the directory to extract files to"
   ]
  },
  {
   "cell_type": "code",
   "execution_count": 5,
   "id": "f374bc47-ee5c-4858-b15c-7a7351a2907f",
   "metadata": {},
   "outputs": [
    {
     "name": "stdout",
     "output_type": "stream",
     "text": [
      "['Index', 'letter-recognition.data', 'letter-recognition.data.Z', 'letter-recognition.names']\n"
     ]
    }
   ],
   "source": [
    "extracted_folder = 'letter_recognition'\n",
    "extracted_files = os.listdir(extracted_folder)\n",
    "print(extracted_files) #only use the 'letter-recognition.data' dataset from the extracted folders"
   ]
  },
  {
   "cell_type": "code",
   "execution_count": 6,
   "id": "d938ea36-6c55-4080-9ee7-8862c44ae297",
   "metadata": {},
   "outputs": [],
   "source": [
    "csv_file = os.path.join(extracted_folder, 'letter-recognition.data')"
   ]
  },
  {
   "cell_type": "code",
   "execution_count": 7,
   "id": "9b95fd7c-671d-424a-bd9a-ccb8fcafb050",
   "metadata": {},
   "outputs": [],
   "source": [
    "df = pd.read_csv(csv_file, header=None)"
   ]
  },
  {
   "cell_type": "code",
   "execution_count": 8,
   "id": "83fe4f78-642f-4428-bce6-d337a001bf28",
   "metadata": {},
   "outputs": [
    {
     "data": {
      "text/html": [
       "<div>\n",
       "<style scoped>\n",
       "    .dataframe tbody tr th:only-of-type {\n",
       "        vertical-align: middle;\n",
       "    }\n",
       "\n",
       "    .dataframe tbody tr th {\n",
       "        vertical-align: top;\n",
       "    }\n",
       "\n",
       "    .dataframe thead th {\n",
       "        text-align: right;\n",
       "    }\n",
       "</style>\n",
       "<table border=\"1\" class=\"dataframe\">\n",
       "  <thead>\n",
       "    <tr style=\"text-align: right;\">\n",
       "      <th></th>\n",
       "      <th>0</th>\n",
       "      <th>1</th>\n",
       "      <th>2</th>\n",
       "      <th>3</th>\n",
       "      <th>4</th>\n",
       "      <th>5</th>\n",
       "      <th>6</th>\n",
       "      <th>7</th>\n",
       "      <th>8</th>\n",
       "      <th>9</th>\n",
       "      <th>10</th>\n",
       "      <th>11</th>\n",
       "      <th>12</th>\n",
       "      <th>13</th>\n",
       "      <th>14</th>\n",
       "      <th>15</th>\n",
       "      <th>16</th>\n",
       "    </tr>\n",
       "  </thead>\n",
       "  <tbody>\n",
       "    <tr>\n",
       "      <th>0</th>\n",
       "      <td>T</td>\n",
       "      <td>2</td>\n",
       "      <td>8</td>\n",
       "      <td>3</td>\n",
       "      <td>5</td>\n",
       "      <td>1</td>\n",
       "      <td>8</td>\n",
       "      <td>13</td>\n",
       "      <td>0</td>\n",
       "      <td>6</td>\n",
       "      <td>6</td>\n",
       "      <td>10</td>\n",
       "      <td>8</td>\n",
       "      <td>0</td>\n",
       "      <td>8</td>\n",
       "      <td>0</td>\n",
       "      <td>8</td>\n",
       "    </tr>\n",
       "    <tr>\n",
       "      <th>1</th>\n",
       "      <td>I</td>\n",
       "      <td>5</td>\n",
       "      <td>12</td>\n",
       "      <td>3</td>\n",
       "      <td>7</td>\n",
       "      <td>2</td>\n",
       "      <td>10</td>\n",
       "      <td>5</td>\n",
       "      <td>5</td>\n",
       "      <td>4</td>\n",
       "      <td>13</td>\n",
       "      <td>3</td>\n",
       "      <td>9</td>\n",
       "      <td>2</td>\n",
       "      <td>8</td>\n",
       "      <td>4</td>\n",
       "      <td>10</td>\n",
       "    </tr>\n",
       "    <tr>\n",
       "      <th>2</th>\n",
       "      <td>D</td>\n",
       "      <td>4</td>\n",
       "      <td>11</td>\n",
       "      <td>6</td>\n",
       "      <td>8</td>\n",
       "      <td>6</td>\n",
       "      <td>10</td>\n",
       "      <td>6</td>\n",
       "      <td>2</td>\n",
       "      <td>6</td>\n",
       "      <td>10</td>\n",
       "      <td>3</td>\n",
       "      <td>7</td>\n",
       "      <td>3</td>\n",
       "      <td>7</td>\n",
       "      <td>3</td>\n",
       "      <td>9</td>\n",
       "    </tr>\n",
       "    <tr>\n",
       "      <th>3</th>\n",
       "      <td>N</td>\n",
       "      <td>7</td>\n",
       "      <td>11</td>\n",
       "      <td>6</td>\n",
       "      <td>6</td>\n",
       "      <td>3</td>\n",
       "      <td>5</td>\n",
       "      <td>9</td>\n",
       "      <td>4</td>\n",
       "      <td>6</td>\n",
       "      <td>4</td>\n",
       "      <td>4</td>\n",
       "      <td>10</td>\n",
       "      <td>6</td>\n",
       "      <td>10</td>\n",
       "      <td>2</td>\n",
       "      <td>8</td>\n",
       "    </tr>\n",
       "    <tr>\n",
       "      <th>4</th>\n",
       "      <td>G</td>\n",
       "      <td>2</td>\n",
       "      <td>1</td>\n",
       "      <td>3</td>\n",
       "      <td>1</td>\n",
       "      <td>1</td>\n",
       "      <td>8</td>\n",
       "      <td>6</td>\n",
       "      <td>6</td>\n",
       "      <td>6</td>\n",
       "      <td>6</td>\n",
       "      <td>5</td>\n",
       "      <td>9</td>\n",
       "      <td>1</td>\n",
       "      <td>7</td>\n",
       "      <td>5</td>\n",
       "      <td>10</td>\n",
       "    </tr>\n",
       "  </tbody>\n",
       "</table>\n",
       "</div>"
      ],
      "text/plain": [
       "  0   1   2   3   4   5   6   7   8   9   10  11  12  13  14  15  16\n",
       "0  T   2   8   3   5   1   8  13   0   6   6  10   8   0   8   0   8\n",
       "1  I   5  12   3   7   2  10   5   5   4  13   3   9   2   8   4  10\n",
       "2  D   4  11   6   8   6  10   6   2   6  10   3   7   3   7   3   9\n",
       "3  N   7  11   6   6   3   5   9   4   6   4   4  10   6  10   2   8\n",
       "4  G   2   1   3   1   1   8   6   6   6   6   5   9   1   7   5  10"
      ]
     },
     "execution_count": 8,
     "metadata": {},
     "output_type": "execute_result"
    }
   ],
   "source": [
    "df.head()"
   ]
  },
  {
   "cell_type": "code",
   "execution_count": 9,
   "id": "e50e4a84-84ae-4479-8df9-1a94cdb755fe",
   "metadata": {},
   "outputs": [],
   "source": [
    "df[0] = df[0].apply(lambda x: ord(x) - ord('A'))\n",
    "#Convert the letter labels to numerical values."
   ]
  },
  {
   "cell_type": "code",
   "execution_count": 10,
   "id": "61fb5c88-c404-4c20-9784-e9342c8f1b11",
   "metadata": {},
   "outputs": [],
   "source": [
    "X = df.iloc[:, 1:].values\n",
    "y = df.iloc[:, 0].values"
   ]
  },
  {
   "cell_type": "code",
   "execution_count": 11,
   "id": "b2e02852-0b58-48be-9d7b-6309b4536dfa",
   "metadata": {},
   "outputs": [],
   "source": [
    "y = to_categorical(y, num_classes=26)"
   ]
  },
  {
   "cell_type": "code",
   "execution_count": 12,
   "id": "0df6cafd-1e99-4c2a-b5b6-08d9d2836faa",
   "metadata": {},
   "outputs": [],
   "source": [
    "X_train, X_test, y_train, y_test = train_test_split(X, y, test_size=0.2, random_state=42)"
   ]
  },
  {
   "cell_type": "code",
   "execution_count": 13,
   "id": "2f4fa13d-7780-441a-8140-02197b52405b",
   "metadata": {},
   "outputs": [],
   "source": [
    "scaler = StandardScaler()\n",
    "X_train = scaler.fit_transform(X_train)\n",
    "X_test = scaler.transform(X_test)"
   ]
  },
  {
   "cell_type": "code",
   "execution_count": 14,
   "id": "1fbd9d5d-6c3c-406b-93ed-cf6c8546eb55",
   "metadata": {},
   "outputs": [],
   "source": [
    "model = Sequential([\n",
    "    Input(shape=(X_train.shape[1],)),\n",
    "    Dense(128, activation='relu'),\n",
    "    Dropout(0.3),\n",
    "    Dense(64, activation='relu'),\n",
    "    Dropout(0.3),\n",
    "    Dense(26, activation='softmax')\n",
    "])"
   ]
  },
  {
   "cell_type": "code",
   "execution_count": 15,
   "id": "61b0f544-23d6-462d-94ad-45d282d7eb76",
   "metadata": {},
   "outputs": [],
   "source": [
    "model.compile(optimizer='adam',\n",
    "             loss='categorical_crossentropy',\n",
    "             metrics=['accuracy'])"
   ]
  },
  {
   "cell_type": "code",
   "execution_count": 16,
   "id": "bc1f1dc5-3c5b-49da-a690-f1c5759a0957",
   "metadata": {},
   "outputs": [
    {
     "name": "stdout",
     "output_type": "stream",
     "text": [
      "Epoch 1/30\n",
      "\u001b[1m400/400\u001b[0m \u001b[32m━━━━━━━━━━━━━━━━━━━━\u001b[0m\u001b[37m\u001b[0m \u001b[1m5s\u001b[0m 7ms/step - accuracy: 0.2479 - loss: 2.6422 - val_accuracy: 0.6956 - val_loss: 1.1764\n",
      "Epoch 2/30\n",
      "\u001b[1m400/400\u001b[0m \u001b[32m━━━━━━━━━━━━━━━━━━━━\u001b[0m\u001b[37m\u001b[0m \u001b[1m3s\u001b[0m 6ms/step - accuracy: 0.5781 - loss: 1.3511 - val_accuracy: 0.7522 - val_loss: 0.9041\n",
      "Epoch 3/30\n",
      "\u001b[1m400/400\u001b[0m \u001b[32m━━━━━━━━━━━━━━━━━━━━\u001b[0m\u001b[37m\u001b[0m \u001b[1m3s\u001b[0m 6ms/step - accuracy: 0.6526 - loss: 1.1055 - val_accuracy: 0.7797 - val_loss: 0.7717\n",
      "Epoch 4/30\n",
      "\u001b[1m400/400\u001b[0m \u001b[32m━━━━━━━━━━━━━━━━━━━━\u001b[0m\u001b[37m\u001b[0m \u001b[1m2s\u001b[0m 5ms/step - accuracy: 0.6908 - loss: 0.9856 - val_accuracy: 0.7947 - val_loss: 0.6926\n",
      "Epoch 5/30\n",
      "\u001b[1m400/400\u001b[0m \u001b[32m━━━━━━━━━━━━━━━━━━━━\u001b[0m\u001b[37m\u001b[0m \u001b[1m3s\u001b[0m 6ms/step - accuracy: 0.7122 - loss: 0.9177 - val_accuracy: 0.8128 - val_loss: 0.6329\n",
      "Epoch 6/30\n",
      "\u001b[1m400/400\u001b[0m \u001b[32m━━━━━━━━━━━━━━━━━━━━\u001b[0m\u001b[37m\u001b[0m \u001b[1m3s\u001b[0m 6ms/step - accuracy: 0.7358 - loss: 0.8245 - val_accuracy: 0.8300 - val_loss: 0.5844\n",
      "Epoch 7/30\n",
      "\u001b[1m400/400\u001b[0m \u001b[32m━━━━━━━━━━━━━━━━━━━━\u001b[0m\u001b[37m\u001b[0m \u001b[1m3s\u001b[0m 6ms/step - accuracy: 0.7545 - loss: 0.7776 - val_accuracy: 0.8397 - val_loss: 0.5419\n",
      "Epoch 8/30\n",
      "\u001b[1m400/400\u001b[0m \u001b[32m━━━━━━━━━━━━━━━━━━━━\u001b[0m\u001b[37m\u001b[0m \u001b[1m3s\u001b[0m 6ms/step - accuracy: 0.7677 - loss: 0.7390 - val_accuracy: 0.8553 - val_loss: 0.5103\n",
      "Epoch 9/30\n",
      "\u001b[1m400/400\u001b[0m \u001b[32m━━━━━━━━━━━━━━━━━━━━\u001b[0m\u001b[37m\u001b[0m \u001b[1m2s\u001b[0m 6ms/step - accuracy: 0.7702 - loss: 0.7201 - val_accuracy: 0.8500 - val_loss: 0.4884\n",
      "Epoch 10/30\n",
      "\u001b[1m400/400\u001b[0m \u001b[32m━━━━━━━━━━━━━━━━━━━━\u001b[0m\u001b[37m\u001b[0m \u001b[1m3s\u001b[0m 6ms/step - accuracy: 0.7785 - loss: 0.6963 - val_accuracy: 0.8647 - val_loss: 0.4557\n",
      "Epoch 11/30\n",
      "\u001b[1m400/400\u001b[0m \u001b[32m━━━━━━━━━━━━━━━━━━━━\u001b[0m\u001b[37m\u001b[0m \u001b[1m3s\u001b[0m 6ms/step - accuracy: 0.7918 - loss: 0.6497 - val_accuracy: 0.8775 - val_loss: 0.4287\n",
      "Epoch 12/30\n",
      "\u001b[1m400/400\u001b[0m \u001b[32m━━━━━━━━━━━━━━━━━━━━\u001b[0m\u001b[37m\u001b[0m \u001b[1m3s\u001b[0m 6ms/step - accuracy: 0.7946 - loss: 0.6218 - val_accuracy: 0.8781 - val_loss: 0.4114\n",
      "Epoch 13/30\n",
      "\u001b[1m400/400\u001b[0m \u001b[32m━━━━━━━━━━━━━━━━━━━━\u001b[0m\u001b[37m\u001b[0m \u001b[1m3s\u001b[0m 6ms/step - accuracy: 0.8037 - loss: 0.6153 - val_accuracy: 0.8875 - val_loss: 0.4003\n",
      "Epoch 14/30\n",
      "\u001b[1m400/400\u001b[0m \u001b[32m━━━━━━━━━━━━━━━━━━━━\u001b[0m\u001b[37m\u001b[0m \u001b[1m3s\u001b[0m 6ms/step - accuracy: 0.8152 - loss: 0.5887 - val_accuracy: 0.8866 - val_loss: 0.3798\n",
      "Epoch 15/30\n",
      "\u001b[1m400/400\u001b[0m \u001b[32m━━━━━━━━━━━━━━━━━━━━\u001b[0m\u001b[37m\u001b[0m \u001b[1m2s\u001b[0m 6ms/step - accuracy: 0.8147 - loss: 0.5717 - val_accuracy: 0.8941 - val_loss: 0.3684\n",
      "Epoch 16/30\n",
      "\u001b[1m400/400\u001b[0m \u001b[32m━━━━━━━━━━━━━━━━━━━━\u001b[0m\u001b[37m\u001b[0m \u001b[1m3s\u001b[0m 6ms/step - accuracy: 0.8179 - loss: 0.5652 - val_accuracy: 0.8934 - val_loss: 0.3554\n",
      "Epoch 17/30\n",
      "\u001b[1m400/400\u001b[0m \u001b[32m━━━━━━━━━━━━━━━━━━━━\u001b[0m\u001b[37m\u001b[0m \u001b[1m3s\u001b[0m 6ms/step - accuracy: 0.8286 - loss: 0.5356 - val_accuracy: 0.8944 - val_loss: 0.3427\n",
      "Epoch 18/30\n",
      "\u001b[1m400/400\u001b[0m \u001b[32m━━━━━━━━━━━━━━━━━━━━\u001b[0m\u001b[37m\u001b[0m \u001b[1m3s\u001b[0m 6ms/step - accuracy: 0.8290 - loss: 0.5314 - val_accuracy: 0.8981 - val_loss: 0.3327\n",
      "Epoch 19/30\n",
      "\u001b[1m400/400\u001b[0m \u001b[32m━━━━━━━━━━━━━━━━━━━━\u001b[0m\u001b[37m\u001b[0m \u001b[1m2s\u001b[0m 5ms/step - accuracy: 0.8318 - loss: 0.5224 - val_accuracy: 0.9016 - val_loss: 0.3243\n",
      "Epoch 20/30\n",
      "\u001b[1m400/400\u001b[0m \u001b[32m━━━━━━━━━━━━━━━━━━━━\u001b[0m\u001b[37m\u001b[0m \u001b[1m2s\u001b[0m 4ms/step - accuracy: 0.8308 - loss: 0.5217 - val_accuracy: 0.9041 - val_loss: 0.3140\n",
      "Epoch 21/30\n",
      "\u001b[1m400/400\u001b[0m \u001b[32m━━━━━━━━━━━━━━━━━━━━\u001b[0m\u001b[37m\u001b[0m \u001b[1m3s\u001b[0m 6ms/step - accuracy: 0.8385 - loss: 0.5042 - val_accuracy: 0.9050 - val_loss: 0.3112\n",
      "Epoch 22/30\n",
      "\u001b[1m400/400\u001b[0m \u001b[32m━━━━━━━━━━━━━━━━━━━━\u001b[0m\u001b[37m\u001b[0m \u001b[1m3s\u001b[0m 6ms/step - accuracy: 0.8469 - loss: 0.4815 - val_accuracy: 0.9066 - val_loss: 0.3037\n",
      "Epoch 23/30\n",
      "\u001b[1m400/400\u001b[0m \u001b[32m━━━━━━━━━━━━━━━━━━━━\u001b[0m\u001b[37m\u001b[0m \u001b[1m2s\u001b[0m 5ms/step - accuracy: 0.8447 - loss: 0.4804 - val_accuracy: 0.9094 - val_loss: 0.2910\n",
      "Epoch 24/30\n",
      "\u001b[1m400/400\u001b[0m \u001b[32m━━━━━━━━━━━━━━━━━━━━\u001b[0m\u001b[37m\u001b[0m \u001b[1m3s\u001b[0m 5ms/step - accuracy: 0.8357 - loss: 0.4793 - val_accuracy: 0.9134 - val_loss: 0.2867\n",
      "Epoch 25/30\n",
      "\u001b[1m400/400\u001b[0m \u001b[32m━━━━━━━━━━━━━━━━━━━━\u001b[0m\u001b[37m\u001b[0m \u001b[1m3s\u001b[0m 6ms/step - accuracy: 0.8402 - loss: 0.4865 - val_accuracy: 0.9116 - val_loss: 0.2861\n",
      "Epoch 26/30\n",
      "\u001b[1m400/400\u001b[0m \u001b[32m━━━━━━━━━━━━━━━━━━━━\u001b[0m\u001b[37m\u001b[0m \u001b[1m3s\u001b[0m 6ms/step - accuracy: 0.8509 - loss: 0.4558 - val_accuracy: 0.9162 - val_loss: 0.2767\n",
      "Epoch 27/30\n",
      "\u001b[1m400/400\u001b[0m \u001b[32m━━━━━━━━━━━━━━━━━━━━\u001b[0m\u001b[37m\u001b[0m \u001b[1m3s\u001b[0m 6ms/step - accuracy: 0.8533 - loss: 0.4493 - val_accuracy: 0.9131 - val_loss: 0.2807\n",
      "Epoch 28/30\n",
      "\u001b[1m400/400\u001b[0m \u001b[32m━━━━━━━━━━━━━━━━━━━━\u001b[0m\u001b[37m\u001b[0m \u001b[1m3s\u001b[0m 6ms/step - accuracy: 0.8616 - loss: 0.4277 - val_accuracy: 0.9181 - val_loss: 0.2680\n",
      "Epoch 29/30\n",
      "\u001b[1m400/400\u001b[0m \u001b[32m━━━━━━━━━━━━━━━━━━━━\u001b[0m\u001b[37m\u001b[0m \u001b[1m2s\u001b[0m 5ms/step - accuracy: 0.8484 - loss: 0.4535 - val_accuracy: 0.9169 - val_loss: 0.2709\n",
      "Epoch 30/30\n",
      "\u001b[1m400/400\u001b[0m \u001b[32m━━━━━━━━━━━━━━━━━━━━\u001b[0m\u001b[37m\u001b[0m \u001b[1m2s\u001b[0m 6ms/step - accuracy: 0.8572 - loss: 0.4335 - val_accuracy: 0.9203 - val_loss: 0.2587\n"
     ]
    }
   ],
   "source": [
    "history = model.fit(X_train, y_train,\n",
    "                   epochs=30,\n",
    "                   batch_size=32,\n",
    "                   validation_split=0.2,\n",
    "                   verbose=1)"
   ]
  },
  {
   "cell_type": "code",
   "execution_count": 17,
   "id": "c1abdfd8-eb6d-431d-98d4-7f36e1581af7",
   "metadata": {},
   "outputs": [
    {
     "name": "stdout",
     "output_type": "stream",
     "text": [
      "Test Loss: 0.2466\n",
      "Test Accuracy: 92.73%\n"
     ]
    }
   ],
   "source": [
    "test_loss, test_accuracy = model.evaluate(X_test, y_test, verbose=0)\n",
    "print(f\"Test Loss: {test_loss:.4f}\")\n",
    "print(f\"Test Accuracy: {test_accuracy*100:.2f}%\")"
   ]
  },
  {
   "cell_type": "code",
   "execution_count": 18,
   "id": "0447104d-ffdd-41cf-af3d-689e76757929",
   "metadata": {},
   "outputs": [
    {
     "name": "stdout",
     "output_type": "stream",
     "text": [
      "\u001b[1m125/125\u001b[0m \u001b[32m━━━━━━━━━━━━━━━━━━━━\u001b[0m\u001b[37m\u001b[0m \u001b[1m0s\u001b[0m 3ms/step\n"
     ]
    }
   ],
   "source": [
    "predictions = model.predict(X_test)\n",
    "y_pred = predictions.argmax(axis=1)\n",
    "y_true = y_test.argmax(axis=1)"
   ]
  },
  {
   "cell_type": "code",
   "execution_count": 19,
   "id": "bcc3aa97-052a-45f6-b829-8eea060525e9",
   "metadata": {},
   "outputs": [
    {
     "name": "stdout",
     "output_type": "stream",
     "text": [
      "Classification Report:\n",
      "\n",
      "              precision    recall  f1-score   support\n",
      "\n",
      "           A       0.96      0.97      0.97       149\n",
      "           B       0.88      0.90      0.89       153\n",
      "           C       0.97      0.93      0.95       137\n",
      "           D       0.91      0.91      0.91       156\n",
      "           E       0.94      0.91      0.93       141\n",
      "           F       0.89      0.91      0.90       140\n",
      "           G       0.88      0.92      0.90       160\n",
      "           H       0.88      0.85      0.87       144\n",
      "           I       0.94      0.90      0.92       146\n",
      "           J       0.96      0.93      0.94       149\n",
      "           K       0.87      0.90      0.89       130\n",
      "           L       0.98      0.89      0.93       155\n",
      "           M       0.96      0.96      0.96       168\n",
      "           N       0.97      0.93      0.95       151\n",
      "           O       0.93      0.91      0.92       145\n",
      "           P       0.98      0.89      0.93       173\n",
      "           Q       0.99      0.95      0.97       166\n",
      "           R       0.80      0.93      0.86       160\n",
      "           S       0.91      0.92      0.91       171\n",
      "           T       0.97      0.93      0.95       163\n",
      "           U       0.93      0.96      0.94       183\n",
      "           V       0.99      0.92      0.95       158\n",
      "           W       0.89      0.97      0.93       148\n",
      "           X       0.93      0.99      0.96       154\n",
      "           Y       0.96      0.96      0.96       168\n",
      "           Z       0.87      0.93      0.90       132\n",
      "\n",
      "    accuracy                           0.93      4000\n",
      "   macro avg       0.93      0.93      0.93      4000\n",
      "weighted avg       0.93      0.93      0.93      4000\n",
      "\n"
     ]
    }
   ],
   "source": [
    "print(\"Classification Report:\\n\")\n",
    "print(classification_report(y_true, y_pred, target_names=[chr(i) for i in range(ord('A'), ord('Z')+1)]))"
   ]
  },
  {
   "cell_type": "markdown",
   "id": "ca1ebb4a-7bd0-4261-86d0-89a16c3a9620",
   "metadata": {},
   "source": [
    "#### (optional code below)"
   ]
  },
  {
   "cell_type": "code",
   "execution_count": 21,
   "id": "9047693c-10b9-47dd-83bd-2bceb5d33e07",
   "metadata": {},
   "outputs": [],
   "source": [
    "model.save(\"ocr_multiclass_model.keras\")"
   ]
  },
  {
   "cell_type": "code",
   "execution_count": 22,
   "id": "5dc90e93-c216-4220-af26-cdbe34cb6b07",
   "metadata": {},
   "outputs": [
    {
     "data": {
      "image/png": "[encoded data removed]",
      "text/plain": [
       "<Figure size 1200x600 with 2 Axes>"
      ]
     },
     "metadata": {},
     "output_type": "display_data"
    }
   ],
   "source": [
    "import matplotlib.pyplot as plt\n",
    "\n",
    "plt.figure(figsize=(12, 6))\n",
    "\n",
    "plt.subplot(1, 2, 1)\n",
    "plt.plot(history.history['accuracy'], label='Train Accuracy')\n",
    "plt.plot(history.history['val_accuracy'], label='Validation Accuracy')\n",
    "plt.title('Model Accuracy')\n",
    "plt.xlabel('Epoch')\n",
    "plt.ylabel('Accuracy')\n",
    "plt.legend()\n",
    "\n",
    "plt.subplot(1, 2, 2)\n",
    "plt.plot(history.history['loss'], label='Train Loss')\n",
    "plt.plot(history.history['val_loss'], label='Validation Loss')\n",
    "plt.title('Model Loss')\n",
    "plt.xlabel('Epoch')\n",
    "plt.ylabel('Loss')\n",
    "plt.legend()\n",
    "\n",
    "plt.show()"
   ]
  },
  {
   "cell_type": "code",
   "execution_count": null,
   "id": "ef4fa59d-036a-4dbc-bf4f-eb3f03f29c60",
   "metadata": {},
   "outputs": [],
   "source": []
  }
 ],
 "metadata": {
  "kernelspec": {
   "display_name": "Python [conda env:base] *",
   "language": "python",
   "name": "conda-base-py"
  },
  "language_info": {
   "codemirror_mode": {
    "name": "ipython",
    "version": 3
   },
   "file_extension": ".py",
   "mimetype": "text/x-python",
   "name": "python",
   "nbconvert_exporter": "python",
   "pygments_lexer": "ipython3",
   "version": "3.12.7"
  }
 },
 "nbformat": 4,
 "nbformat_minor": 5
}
